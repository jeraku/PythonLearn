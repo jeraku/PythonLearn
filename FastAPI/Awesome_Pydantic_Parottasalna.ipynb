{
  "nbformat": 4,
  "nbformat_minor": 0,
  "metadata": {
    "colab": {
      "provenance": []
    },
    "kernelspec": {
      "name": "python3",
      "display_name": "Python 3"
    },
    "language_info": {
      "name": "python"
    }
  },
  "cells": [
    {
      "cell_type": "markdown",
      "source": [
        "Validate a user object with\n",
        "1. name: non-empty string\n",
        "2. age: integer > 0\n",
        "3. email: must contain @\n",
        "4. is_active: boolean (default: True)"
      ],
      "metadata": {
        "id": "_cGiD_1KmyVg"
      }
    },
    {
      "cell_type": "code",
      "source": [
        "class User:\n",
        "    def __init__(self, name, age, email, is_active=True):\n",
        "        self.name = name\n",
        "        self.age = age\n",
        "        self.email = email\n",
        "        self.is_active = is_active\n",
        "        self.validate()\n",
        "\n",
        "    def validate(self):\n",
        "        if not isinstance(self.name, str) or not self.name.strip():\n",
        "            raise ValueError(\"Name must be a non-empty string\")\n",
        "\n",
        "        if not isinstance(self.age, int) or self.age <= 0:\n",
        "            raise ValueError(\"Age must be a positive integer\")\n",
        "\n",
        "        if not isinstance(self.email, str) or \"@\" not in self.email:\n",
        "            raise ValueError(\"Invalid email format\")\n",
        "\n",
        "        if not isinstance(self.is_active, bool):\n",
        "            raise ValueError(\"is_active must be a boolean\")\n",
        "\n",
        "    def to_dict(self):\n",
        "        return {\n",
        "            \"name\": self.name,\n",
        "            \"age\": self.age,\n",
        "            \"email\": self.email,\n",
        "            \"is_active\": self.is_active,\n",
        "        }\n",
        "\n",
        "# Usage\n",
        "try:\n",
        "    user = User(name=\"Jafer\", age=25, email=\"jafer@example.com\")\n",
        "    print(user.to_dict())\n",
        "except Exception as e:\n",
        "    print(e)\n"
      ],
      "metadata": {
        "colab": {
          "base_uri": "https://localhost:8080/"
        },
        "id": "yzS7kEtVmwon",
        "outputId": "beb14cf5-c3ce-4287-eef9-355fb789996f"
      },
      "execution_count": null,
      "outputs": [
        {
          "output_type": "stream",
          "name": "stdout",
          "text": [
            "{'name': 'Jafer', 'age': 25, 'email': 'jafer@example.com', 'is_active': True}\n"
          ]
        }
      ]
    },
    {
      "cell_type": "code",
      "execution_count": null,
      "metadata": {
        "id": "EZABebhGgz8y"
      },
      "outputs": [],
      "source": []
    },
    {
      "cell_type": "code",
      "source": [
        "from pydantic import BaseModel, Field, field_validator\n",
        "\n",
        "class User(BaseModel):\n",
        "    name: str = Field(..., min_length=1)\n",
        "    age: int = Field(..., gt=0)\n",
        "    email: str\n",
        "    is_active: bool = True\n",
        "    pancard: bool = False\n",
        "\n",
        "    @field_validator(\"email\")\n",
        "    def email_must_be_valid(cls, v):\n",
        "        if \"@\" not in v:\n",
        "            raise ValueError(\"Invalid email format\")\n",
        "        return v\n",
        "\n",
        "# Usage\n",
        "try:\n",
        "    user = User(name=\"Jafer\", age=25, email=\"jafer@example.com\")\n",
        "    print(user.model_dump())\n",
        "except Exception as e:\n",
        "    print(e)\n"
      ],
      "metadata": {
        "colab": {
          "base_uri": "https://localhost:8080/"
        },
        "id": "PApzgahCmM0H",
        "outputId": "8a215c28-205a-412d-c08d-41fd4e0f3558"
      },
      "execution_count": null,
      "outputs": [
        {
          "output_type": "stream",
          "name": "stdout",
          "text": [
            "{'name': 'Jafer', 'age': 25, 'email': 'jafer@example.com', 'is_active': True}\n"
          ]
        }
      ]
    },
    {
      "cell_type": "code",
      "source": [
        "def add(num: int):\n",
        "    print(num)\n",
        "\n",
        "add(\"5\")"
      ],
      "metadata": {
        "colab": {
          "base_uri": "https://localhost:8080/"
        },
        "id": "J_bRLsHdY5aF",
        "outputId": "058d906f-53fd-4fbf-ea4b-85a8578dd6a0"
      },
      "execution_count": null,
      "outputs": [
        {
          "output_type": "stream",
          "name": "stdout",
          "text": [
            "5\n"
          ]
        }
      ]
    },
    {
      "cell_type": "code",
      "source": [
        "# Basic User Model"
      ],
      "metadata": {
        "id": "eNd4S8F8m9hc"
      },
      "execution_count": null,
      "outputs": []
    },
    {
      "cell_type": "code",
      "source": [
        "class User(BaseModel):\n",
        "    id: int\n",
        "    name: str\n",
        "    is_active: bool = True\n",
        "\n",
        "user = User(id='1', name='Jafer', is_active='1')  # str '1' will be coerced to int\n",
        "print(user.name)\n",
        "print(user.model_dump())"
      ],
      "metadata": {
        "colab": {
          "base_uri": "https://localhost:8080/"
        },
        "id": "ba9KOGYsnhXX",
        "outputId": "2a54ee56-b798-4440-8535-d91f7d1583e6"
      },
      "execution_count": null,
      "outputs": [
        {
          "output_type": "stream",
          "name": "stdout",
          "text": [
            "Jafer\n",
            "{'id': 1, 'name': 'Jafer', 'is_active': True}\n"
          ]
        }
      ]
    },
    {
      "cell_type": "code",
      "source": [
        "|# Field Constraints"
      ],
      "metadata": {
        "id": "UUysEg1znhyD"
      },
      "execution_count": null,
      "outputs": []
    },
    {
      "cell_type": "code",
      "source": [
        "from pydantic import BaseModel, Field\n",
        "class Product(BaseModel):\n",
        "    name: str = Field(..., min_length=3, max_length=50)\n",
        "    price: float = Field(..., gt=0, description=\"Price must be greater than 0\")\n",
        "\n",
        "try:\n",
        "    product = Product(name='Pen', price=10.5)\n",
        "    print(product.model_dump())\n",
        "    print(product.model_dump_json())\n",
        "except Exception as ex:\n",
        "    print(ex)"
      ],
      "metadata": {
        "colab": {
          "base_uri": "https://localhost:8080/"
        },
        "id": "N0nPAR4YnoX3",
        "outputId": "bd3344e7-69bc-4423-cd44-e08343d73a9b"
      },
      "execution_count": null,
      "outputs": [
        {
          "output_type": "stream",
          "name": "stdout",
          "text": [
            "{'name': 'Pen', 'price': 10.5}\n",
            "{\"name\":\"Pen\",\"price\":10.5}\n"
          ]
        }
      ]
    },
    {
      "cell_type": "code",
      "source": [
        "# Optional Field"
      ],
      "metadata": {
        "id": "--e3-UwLnq0C"
      },
      "execution_count": null,
      "outputs": []
    },
    {
      "cell_type": "code",
      "source": [
        "from pydantic import BaseModel\n",
        "from typing import Optional\n",
        "\n",
        "class Student(BaseModel):\n",
        "    name: str\n",
        "    email: Optional[str] = None\n",
        "\n",
        "student = Student(name=\"Alice\")\n",
        "print(student.email)"
      ],
      "metadata": {
        "colab": {
          "base_uri": "https://localhost:8080/"
        },
        "id": "NRiD_Ngln0_w",
        "outputId": "9d83b981-980a-44d4-cba1-c68ba398940d"
      },
      "execution_count": null,
      "outputs": [
        {
          "output_type": "stream",
          "name": "stdout",
          "text": [
            "None\n"
          ]
        }
      ]
    },
    {
      "cell_type": "code",
      "source": [
        "# Nested Model"
      ],
      "metadata": {
        "id": "yj9XD0MioI5V"
      },
      "execution_count": null,
      "outputs": []
    },
    {
      "cell_type": "code",
      "source": [
        "class Address(BaseModel):\n",
        "    city: str\n",
        "    pincode: int\n",
        "\n",
        "class UserWithAddress(BaseModel):\n",
        "    id: int\n",
        "    name: str\n",
        "    address: Address\n",
        "\n",
        "user_nested = UserWithAddress(id=1, name=\"Jafer\", address={'city': 'Chennai', 'pincode': '600001'})\n",
        "\n",
        "wijay = UserWithAddress(id=2, name=\"Wijay\", address=user_nested.address)\n",
        "\n",
        "print(wijay.address)\n",
        "# print(user_nested.address.city)"
      ],
      "metadata": {
        "colab": {
          "base_uri": "https://localhost:8080/"
        },
        "id": "P-aMBYINn1e5",
        "outputId": "52f76acd-1a7b-49c5-99b6-f0af41b8e7fe"
      },
      "execution_count": null,
      "outputs": [
        {
          "output_type": "stream",
          "name": "stdout",
          "text": [
            "city='Chennai' pincode=600001\n"
          ]
        }
      ]
    },
    {
      "cell_type": "code",
      "source": [
        "user_nested.name"
      ],
      "metadata": {
        "colab": {
          "base_uri": "https://localhost:8080/",
          "height": 35
        },
        "id": "TFzagSKk2qk8",
        "outputId": "44cd43f8-4f34-44a9-ac1b-84a160b9e671"
      },
      "execution_count": null,
      "outputs": [
        {
          "output_type": "execute_result",
          "data": {
            "text/plain": [
              "'Jafer'"
            ],
            "application/vnd.google.colaboratory.intrinsic+json": {
              "type": "string"
            }
          },
          "metadata": {},
          "execution_count": 3
        }
      ]
    },
    {
      "cell_type": "code",
      "source": [
        "user_nested.address"
      ],
      "metadata": {
        "colab": {
          "base_uri": "https://localhost:8080/"
        },
        "id": "V70hCp9T2qgb",
        "outputId": "3514c742-4291-408a-9faf-f870852ce977"
      },
      "execution_count": null,
      "outputs": [
        {
          "output_type": "execute_result",
          "data": {
            "text/plain": [
              "Address(city='Chennai', pincode=600001)"
            ]
          },
          "metadata": {},
          "execution_count": 4
        }
      ]
    },
    {
      "cell_type": "code",
      "source": [],
      "metadata": {
        "id": "BDhSLDSG2qZw"
      },
      "execution_count": null,
      "outputs": []
    },
    {
      "cell_type": "code",
      "source": [],
      "metadata": {
        "id": "6dtCAfCV2qTG"
      },
      "execution_count": null,
      "outputs": []
    },
    {
      "cell_type": "code",
      "source": [
        "a"
      ],
      "metadata": {
        "id": "WTS9lV9x2prj"
      },
      "execution_count": null,
      "outputs": []
    },
    {
      "cell_type": "code",
      "source": [
        "# Field Validator"
      ],
      "metadata": {
        "id": "NlyngcBzoGbi"
      },
      "execution_count": null,
      "outputs": []
    },
    {
      "cell_type": "code",
      "source": [
        "from pydantic import BaseModel, field_validator\n",
        "\n",
        "class Signup(BaseModel):\n",
        "    username: str\n",
        "    password: str\n",
        "\n",
        "    @field_validator('password')\n",
        "    def strong_password(cls, v):\n",
        "        if len(v) < 6:\n",
        "            raise ValueError('Password too short')\n",
        "        return v\n",
        "\n",
        "signup = Signup(username=\"jafer\", password=\"secu\")\n"
      ],
      "metadata": {
        "id": "Q1qpB3eioOLI",
        "colab": {
          "base_uri": "https://localhost:8080/",
          "height": 350
        },
        "outputId": "052d3d4e-d824-4829-a1c9-2475ca9c0ac7"
      },
      "execution_count": null,
      "outputs": [
        {
          "output_type": "error",
          "ename": "ValidationError",
          "evalue": "1 validation error for Signup\npassword\n  Value error, Password too short [type=value_error, input_value='secu', input_type=str]\n    For further information visit https://errors.pydantic.dev/2.11/v/value_error",
          "traceback": [
            "\u001b[0;31m---------------------------------------------------------------------------\u001b[0m",
            "\u001b[0;31mValidationError\u001b[0m                           Traceback (most recent call last)",
            "\u001b[0;32m/tmp/ipython-input-8-3116998458.py\u001b[0m in \u001b[0;36m<cell line: 0>\u001b[0;34m()\u001b[0m\n\u001b[1;32m     11\u001b[0m         \u001b[0;32mreturn\u001b[0m \u001b[0mv\u001b[0m\u001b[0;34m\u001b[0m\u001b[0;34m\u001b[0m\u001b[0m\n\u001b[1;32m     12\u001b[0m \u001b[0;34m\u001b[0m\u001b[0m\n\u001b[0;32m---> 13\u001b[0;31m \u001b[0msignup\u001b[0m \u001b[0;34m=\u001b[0m \u001b[0mSignup\u001b[0m\u001b[0;34m(\u001b[0m\u001b[0musername\u001b[0m\u001b[0;34m=\u001b[0m\u001b[0;34m\"jafer\"\u001b[0m\u001b[0;34m,\u001b[0m \u001b[0mpassword\u001b[0m\u001b[0;34m=\u001b[0m\u001b[0;34m\"secu\"\u001b[0m\u001b[0;34m)\u001b[0m\u001b[0;34m\u001b[0m\u001b[0;34m\u001b[0m\u001b[0m\n\u001b[0m",
            "\u001b[0;32m/usr/local/lib/python3.11/dist-packages/pydantic/main.py\u001b[0m in \u001b[0;36m__init__\u001b[0;34m(self, **data)\u001b[0m\n\u001b[1;32m    251\u001b[0m         \u001b[0;31m# `__tracebackhide__` tells pytest and some other tools to omit this function from tracebacks\u001b[0m\u001b[0;34m\u001b[0m\u001b[0;34m\u001b[0m\u001b[0m\n\u001b[1;32m    252\u001b[0m         \u001b[0m__tracebackhide__\u001b[0m \u001b[0;34m=\u001b[0m \u001b[0;32mTrue\u001b[0m\u001b[0;34m\u001b[0m\u001b[0;34m\u001b[0m\u001b[0m\n\u001b[0;32m--> 253\u001b[0;31m         \u001b[0mvalidated_self\u001b[0m \u001b[0;34m=\u001b[0m \u001b[0mself\u001b[0m\u001b[0;34m.\u001b[0m\u001b[0m__pydantic_validator__\u001b[0m\u001b[0;34m.\u001b[0m\u001b[0mvalidate_python\u001b[0m\u001b[0;34m(\u001b[0m\u001b[0mdata\u001b[0m\u001b[0;34m,\u001b[0m \u001b[0mself_instance\u001b[0m\u001b[0;34m=\u001b[0m\u001b[0mself\u001b[0m\u001b[0;34m)\u001b[0m\u001b[0;34m\u001b[0m\u001b[0;34m\u001b[0m\u001b[0m\n\u001b[0m\u001b[1;32m    254\u001b[0m         \u001b[0;32mif\u001b[0m \u001b[0mself\u001b[0m \u001b[0;32mis\u001b[0m \u001b[0;32mnot\u001b[0m \u001b[0mvalidated_self\u001b[0m\u001b[0;34m:\u001b[0m\u001b[0;34m\u001b[0m\u001b[0;34m\u001b[0m\u001b[0m\n\u001b[1;32m    255\u001b[0m             warnings.warn(\n",
            "\u001b[0;31mValidationError\u001b[0m: 1 validation error for Signup\npassword\n  Value error, Password too short [type=value_error, input_value='secu', input_type=str]\n    For further information visit https://errors.pydantic.dev/2.11/v/value_error"
          ]
        }
      ]
    },
    {
      "cell_type": "code",
      "source": [
        "# Model Validator"
      ],
      "metadata": {
        "id": "C8-8IdUqoTrS"
      },
      "execution_count": null,
      "outputs": []
    },
    {
      "cell_type": "code",
      "source": [
        "from pydantic import BaseModel, model_validator, Field\n",
        "class RangeModel(BaseModel):\n",
        "    start: int = Field(..., gt=12, description=\"start number\")\n",
        "    end: int\n",
        "\n",
        "    @model_validator(mode='before')\n",
        "    def check_range(cls, values):\n",
        "        start, end = values[\"start\"], values[\"end\"]\n",
        "        if start > end:\n",
        "            raise ValueError(\"start must be less than end\")\n",
        "        return values\n",
        "\n",
        "range_model = RangeModel(start=11, end=10)\n"
      ],
      "metadata": {
        "id": "RwrlPpq-oXI9",
        "colab": {
          "base_uri": "https://localhost:8080/",
          "height": 332
        },
        "outputId": "81bb2a17-68b2-455e-979b-b0eb41bd3f0d"
      },
      "execution_count": null,
      "outputs": [
        {
          "output_type": "error",
          "ename": "ValidationError",
          "evalue": "1 validation error for RangeModel\n  Value error, start must be less than end [type=value_error, input_value={'start': 11, 'end': 10}, input_type=dict]\n    For further information visit https://errors.pydantic.dev/2.11/v/value_error",
          "traceback": [
            "\u001b[0;31m---------------------------------------------------------------------------\u001b[0m",
            "\u001b[0;31mValidationError\u001b[0m                           Traceback (most recent call last)",
            "\u001b[0;32m/tmp/ipython-input-14-385113222.py\u001b[0m in \u001b[0;36m<cell line: 0>\u001b[0;34m()\u001b[0m\n\u001b[1;32m     11\u001b[0m         \u001b[0;32mreturn\u001b[0m \u001b[0mvalues\u001b[0m\u001b[0;34m\u001b[0m\u001b[0;34m\u001b[0m\u001b[0m\n\u001b[1;32m     12\u001b[0m \u001b[0;34m\u001b[0m\u001b[0m\n\u001b[0;32m---> 13\u001b[0;31m \u001b[0mrange_model\u001b[0m \u001b[0;34m=\u001b[0m \u001b[0mRangeModel\u001b[0m\u001b[0;34m(\u001b[0m\u001b[0mstart\u001b[0m\u001b[0;34m=\u001b[0m\u001b[0;36m11\u001b[0m\u001b[0;34m,\u001b[0m \u001b[0mend\u001b[0m\u001b[0;34m=\u001b[0m\u001b[0;36m10\u001b[0m\u001b[0;34m)\u001b[0m\u001b[0;34m\u001b[0m\u001b[0;34m\u001b[0m\u001b[0m\n\u001b[0m",
            "\u001b[0;32m/usr/local/lib/python3.11/dist-packages/pydantic/main.py\u001b[0m in \u001b[0;36m__init__\u001b[0;34m(self, **data)\u001b[0m\n\u001b[1;32m    251\u001b[0m         \u001b[0;31m# `__tracebackhide__` tells pytest and some other tools to omit this function from tracebacks\u001b[0m\u001b[0;34m\u001b[0m\u001b[0;34m\u001b[0m\u001b[0m\n\u001b[1;32m    252\u001b[0m         \u001b[0m__tracebackhide__\u001b[0m \u001b[0;34m=\u001b[0m \u001b[0;32mTrue\u001b[0m\u001b[0;34m\u001b[0m\u001b[0;34m\u001b[0m\u001b[0m\n\u001b[0;32m--> 253\u001b[0;31m         \u001b[0mvalidated_self\u001b[0m \u001b[0;34m=\u001b[0m \u001b[0mself\u001b[0m\u001b[0;34m.\u001b[0m\u001b[0m__pydantic_validator__\u001b[0m\u001b[0;34m.\u001b[0m\u001b[0mvalidate_python\u001b[0m\u001b[0;34m(\u001b[0m\u001b[0mdata\u001b[0m\u001b[0;34m,\u001b[0m \u001b[0mself_instance\u001b[0m\u001b[0;34m=\u001b[0m\u001b[0mself\u001b[0m\u001b[0;34m)\u001b[0m\u001b[0;34m\u001b[0m\u001b[0;34m\u001b[0m\u001b[0m\n\u001b[0m\u001b[1;32m    254\u001b[0m         \u001b[0;32mif\u001b[0m \u001b[0mself\u001b[0m \u001b[0;32mis\u001b[0m \u001b[0;32mnot\u001b[0m \u001b[0mvalidated_self\u001b[0m\u001b[0;34m:\u001b[0m\u001b[0;34m\u001b[0m\u001b[0;34m\u001b[0m\u001b[0m\n\u001b[1;32m    255\u001b[0m             warnings.warn(\n",
            "\u001b[0;31mValidationError\u001b[0m: 1 validation error for RangeModel\n  Value error, start must be less than end [type=value_error, input_value={'start': 11, 'end': 10}, input_type=dict]\n    For further information visit https://errors.pydantic.dev/2.11/v/value_error"
          ]
        }
      ]
    },
    {
      "cell_type": "code",
      "source": [
        "# Alias Usage"
      ],
      "metadata": {
        "id": "6xUWjRHNocTN"
      },
      "execution_count": null,
      "outputs": []
    },
    {
      "cell_type": "code",
      "source": [
        "class UserAlias(BaseModel):\n",
        "    names: str = Field(..., alias='full_name')\n",
        "\n",
        "    class Config:\n",
        "        validate_by_name = True\n",
        "\n",
        "user_alias = UserAlias(names=\"Jafer\")\n",
        "print(user_alias.names)"
      ],
      "metadata": {
        "colab": {
          "base_uri": "https://localhost:8080/"
        },
        "id": "CGGw4rZopOdP",
        "outputId": "7e7f0d84-f01a-48f5-c21f-7ec6684937e5"
      },
      "execution_count": null,
      "outputs": [
        {
          "output_type": "stream",
          "name": "stdout",
          "text": [
            "Jafer\n"
          ]
        }
      ]
    },
    {
      "cell_type": "code",
      "source": [
        "# Extra Field Handling"
      ],
      "metadata": {
        "id": "Slhzs0mapPIK"
      },
      "execution_count": null,
      "outputs": []
    },
    {
      "cell_type": "code",
      "source": [
        "class StudentResponse(BaseModel):\n",
        "    id: int\n",
        "    name: str\n",
        "\n",
        "\n",
        "    class Config:\n",
        "        extra = \"ignore\"\n",
        "\n",
        "extra_user = Todo(id=1, name=\"Jafer\", email=\"jafer@example.com\")\n",
        "print(extra_user.model_dump())"
      ],
      "metadata": {
        "colab": {
          "base_uri": "https://localhost:8080/",
          "height": 367
        },
        "id": "LSioFMOUpc2c",
        "outputId": "12c8458e-d55a-4d0b-a637-336aafb0404f"
      },
      "execution_count": null,
      "outputs": [
        {
          "output_type": "error",
          "ename": "ValidationError",
          "evalue": "1 validation error for Todo\nemail\n  Extra inputs are not permitted [type=extra_forbidden, input_value='jafer@example.com', input_type=str]\n    For further information visit https://errors.pydantic.dev/2.11/v/extra_forbidden",
          "traceback": [
            "\u001b[0;31m---------------------------------------------------------------------------\u001b[0m",
            "\u001b[0;31mValidationError\u001b[0m                           Traceback (most recent call last)",
            "\u001b[0;32m/tmp/ipython-input-27-4075457409.py\u001b[0m in \u001b[0;36m<cell line: 0>\u001b[0;34m()\u001b[0m\n\u001b[1;32m      7\u001b[0m         \u001b[0mextra\u001b[0m \u001b[0;34m=\u001b[0m \u001b[0;34m\"ignore\"\u001b[0m\u001b[0;34m\u001b[0m\u001b[0;34m\u001b[0m\u001b[0m\n\u001b[1;32m      8\u001b[0m \u001b[0;34m\u001b[0m\u001b[0m\n\u001b[0;32m----> 9\u001b[0;31m \u001b[0mextra_user\u001b[0m \u001b[0;34m=\u001b[0m \u001b[0mTodo\u001b[0m\u001b[0;34m(\u001b[0m\u001b[0mid\u001b[0m\u001b[0;34m=\u001b[0m\u001b[0;36m1\u001b[0m\u001b[0;34m,\u001b[0m \u001b[0mname\u001b[0m\u001b[0;34m=\u001b[0m\u001b[0;34m\"Jafer\"\u001b[0m\u001b[0;34m,\u001b[0m \u001b[0memail\u001b[0m\u001b[0;34m=\u001b[0m\u001b[0;34m\"jafer@example.com\"\u001b[0m\u001b[0;34m)\u001b[0m\u001b[0;34m\u001b[0m\u001b[0;34m\u001b[0m\u001b[0m\n\u001b[0m\u001b[1;32m     10\u001b[0m \u001b[0mprint\u001b[0m\u001b[0;34m(\u001b[0m\u001b[0mextra_user\u001b[0m\u001b[0;34m.\u001b[0m\u001b[0mmodel_dump\u001b[0m\u001b[0;34m(\u001b[0m\u001b[0;34m)\u001b[0m\u001b[0;34m)\u001b[0m\u001b[0;34m\u001b[0m\u001b[0;34m\u001b[0m\u001b[0m\n",
            "\u001b[0;32m/usr/local/lib/python3.11/dist-packages/pydantic/main.py\u001b[0m in \u001b[0;36m__init__\u001b[0;34m(self, **data)\u001b[0m\n\u001b[1;32m    251\u001b[0m         \u001b[0;31m# `__tracebackhide__` tells pytest and some other tools to omit this function from tracebacks\u001b[0m\u001b[0;34m\u001b[0m\u001b[0;34m\u001b[0m\u001b[0m\n\u001b[1;32m    252\u001b[0m         \u001b[0m__tracebackhide__\u001b[0m \u001b[0;34m=\u001b[0m \u001b[0;32mTrue\u001b[0m\u001b[0;34m\u001b[0m\u001b[0;34m\u001b[0m\u001b[0m\n\u001b[0;32m--> 253\u001b[0;31m         \u001b[0mvalidated_self\u001b[0m \u001b[0;34m=\u001b[0m \u001b[0mself\u001b[0m\u001b[0;34m.\u001b[0m\u001b[0m__pydantic_validator__\u001b[0m\u001b[0;34m.\u001b[0m\u001b[0mvalidate_python\u001b[0m\u001b[0;34m(\u001b[0m\u001b[0mdata\u001b[0m\u001b[0;34m,\u001b[0m \u001b[0mself_instance\u001b[0m\u001b[0;34m=\u001b[0m\u001b[0mself\u001b[0m\u001b[0;34m)\u001b[0m\u001b[0;34m\u001b[0m\u001b[0;34m\u001b[0m\u001b[0m\n\u001b[0m\u001b[1;32m    254\u001b[0m         \u001b[0;32mif\u001b[0m \u001b[0mself\u001b[0m \u001b[0;32mis\u001b[0m \u001b[0;32mnot\u001b[0m \u001b[0mvalidated_self\u001b[0m\u001b[0;34m:\u001b[0m\u001b[0;34m\u001b[0m\u001b[0;34m\u001b[0m\u001b[0m\n\u001b[1;32m    255\u001b[0m             warnings.warn(\n",
            "\u001b[0;31mValidationError\u001b[0m: 1 validation error for Todo\nemail\n  Extra inputs are not permitted [type=extra_forbidden, input_value='jafer@example.com', input_type=str]\n    For further information visit https://errors.pydantic.dev/2.11/v/extra_forbidden"
          ]
        }
      ]
    },
    {
      "cell_type": "code",
      "source": [
        "# Inheritance Example"
      ],
      "metadata": {
        "id": "h21ldcCspfAh"
      },
      "execution_count": null,
      "outputs": []
    },
    {
      "cell_type": "code",
      "source": [
        "class BaseUser(BaseModel):\n",
        "    id: int\n",
        "    name: str\n",
        "\n",
        "class AdminUser(BaseUser):\n",
        "    access_level: int\n",
        "\n",
        "admin = AdminUser(id=1, name=\"Syed\", access_level=10)\n",
        "print(admin.model_dump())"
      ],
      "metadata": {
        "colab": {
          "base_uri": "https://localhost:8080/"
        },
        "id": "yotJNC18pkY-",
        "outputId": "5c778d54-e0ee-4100-e391-c2ce16cfe36d"
      },
      "execution_count": null,
      "outputs": [
        {
          "output_type": "stream",
          "name": "stdout",
          "text": [
            "{'id': 1, 'name': 'Syed', 'access_level': 10}\n"
          ]
        }
      ]
    },
    {
      "cell_type": "code",
      "source": [
        "# Environment Variables with BaseSettings"
      ],
      "metadata": {
        "id": "4oewsRhhpmPA"
      },
      "execution_count": null,
      "outputs": []
    },
    {
      "cell_type": "code",
      "source": [
        "! pip install pydantic-settings\n"
      ],
      "metadata": {
        "colab": {
          "base_uri": "https://localhost:8080/"
        },
        "id": "U2x3lF5apsn8",
        "outputId": "15aa7236-e10d-45ac-fdfc-3e41cb3f3702"
      },
      "execution_count": null,
      "outputs": [
        {
          "output_type": "stream",
          "name": "stdout",
          "text": [
            "Collecting pydantic-settings\n",
            "  Downloading pydantic_settings-2.10.1-py3-none-any.whl.metadata (3.4 kB)\n",
            "Requirement already satisfied: pydantic>=2.7.0 in /usr/local/lib/python3.11/dist-packages (from pydantic-settings) (2.11.7)\n",
            "Collecting python-dotenv>=0.21.0 (from pydantic-settings)\n",
            "  Downloading python_dotenv-1.1.1-py3-none-any.whl.metadata (24 kB)\n",
            "Requirement already satisfied: typing-inspection>=0.4.0 in /usr/local/lib/python3.11/dist-packages (from pydantic-settings) (0.4.1)\n",
            "Requirement already satisfied: annotated-types>=0.6.0 in /usr/local/lib/python3.11/dist-packages (from pydantic>=2.7.0->pydantic-settings) (0.7.0)\n",
            "Requirement already satisfied: pydantic-core==2.33.2 in /usr/local/lib/python3.11/dist-packages (from pydantic>=2.7.0->pydantic-settings) (2.33.2)\n",
            "Requirement already satisfied: typing-extensions>=4.12.2 in /usr/local/lib/python3.11/dist-packages (from pydantic>=2.7.0->pydantic-settings) (4.14.0)\n",
            "Downloading pydantic_settings-2.10.1-py3-none-any.whl (45 kB)\n",
            "\u001b[2K   \u001b[90m━━━━━━━━━━━━━━━━━━━━━━━━━━━━━━━━━━━━━━━━\u001b[0m \u001b[32m45.2/45.2 kB\u001b[0m \u001b[31m4.2 MB/s\u001b[0m eta \u001b[36m0:00:00\u001b[0m\n",
            "\u001b[?25hDownloading python_dotenv-1.1.1-py3-none-any.whl (20 kB)\n",
            "Installing collected packages: python-dotenv, pydantic-settings\n",
            "Successfully installed pydantic-settings-2.10.1 python-dotenv-1.1.1\n"
          ]
        }
      ]
    },
    {
      "cell_type": "code",
      "source": [
        "from pydantic_settings import BaseSettings\n",
        "class Settings(BaseSettings):\n",
        "    app_name: str = \"MyApp\"\n",
        "    debug: bool = False\n",
        "\n",
        "    class Config:\n",
        "        env_file = \".env\"\n",
        "\n",
        "settings = Settings()\n",
        "print(settings.app_name, settings.debug)"
      ],
      "metadata": {
        "colab": {
          "base_uri": "https://localhost:8080/"
        },
        "id": "44ZltUm-psOv",
        "outputId": "b01d0129-da8b-4fa7-96e4-2ee1683cab3a"
      },
      "execution_count": null,
      "outputs": [
        {
          "output_type": "stream",
          "name": "stdout",
          "text": [
            "MyApp False\n"
          ]
        }
      ]
    },
    {
      "cell_type": "code",
      "source": [
        "# Parsing Raw JSON"
      ],
      "metadata": {
        "id": "kmtM9WdsqBHf"
      },
      "execution_count": null,
      "outputs": []
    },
    {
      "cell_type": "code",
      "source": [
        "class User(BaseModel):\n",
        "    id: int\n",
        "    name: str\n",
        "    is_active: bool = True\n",
        "\n",
        "raw_json = '{\"id\": 123, \"name\": \"Syed\", \"age\": 27}'\n",
        "user_from_json = User.model_validate_json(raw_json)\n",
        "\n",
        "print(user_from_json.model_dump())"
      ],
      "metadata": {
        "colab": {
          "base_uri": "https://localhost:8080/"
        },
        "id": "hBLAMnwsqLY8",
        "outputId": "fe970ef7-1b90-417f-8133-ffe75a14759d"
      },
      "execution_count": null,
      "outputs": [
        {
          "output_type": "stream",
          "name": "stdout",
          "text": [
            "{'id': 123, 'name': 'Syed', 'is_active': True, 'age': 27}\n"
          ]
        }
      ]
    },
    {
      "cell_type": "code",
      "source": [
        "# Parsing from Dictionary"
      ],
      "metadata": {
        "id": "4dyjO1LGqO3b"
      },
      "execution_count": null,
      "outputs": []
    },
    {
      "cell_type": "code",
      "source": [
        "user_dict = {\"id\": 2, \"name\": \"Asha\"}\n",
        "user_obj = User.model_validate(user_dict)\n",
        "print(user_obj)"
      ],
      "metadata": {
        "colab": {
          "base_uri": "https://localhost:8080/"
        },
        "id": "Mno2d1o1ryvy",
        "outputId": "719b89be-e646-4bab-bae4-edaab041184f"
      },
      "execution_count": null,
      "outputs": [
        {
          "output_type": "stream",
          "name": "stdout",
          "text": [
            "id=2 name='Asha' is_active=True\n"
          ]
        }
      ]
    },
    {
      "cell_type": "code",
      "source": [
        "# List of Items"
      ],
      "metadata": {
        "id": "9Q5tdBylr1au"
      },
      "execution_count": null,
      "outputs": []
    },
    {
      "cell_type": "code",
      "source": [
        "from pydantic import BaseModel\n",
        "from typing import List\n",
        "\n",
        "class Item(BaseModel):\n",
        "    name: str\n",
        "    quantity: int\n",
        "\n",
        "class Cart(BaseModel):\n",
        "    items: List[Item]\n",
        "\n",
        "cart = Cart(items=[{\"name\": \"Book\", \"quantity\": 2}, {\"name\": \"Pen\", \"quantity\": 5}])\n",
        "print(cart.model_dump())"
      ],
      "metadata": {
        "colab": {
          "base_uri": "https://localhost:8080/"
        },
        "id": "L-k4JHLLsGcY",
        "outputId": "53a554a7-93d7-4bc1-cf6c-4a4bb03b286a"
      },
      "execution_count": null,
      "outputs": [
        {
          "output_type": "stream",
          "name": "stdout",
          "text": [
            "{'items': [{'name': 'Book', 'quantity': 2}, {'name': 'Pen', 'quantity': 5}]}\n"
          ]
        }
      ]
    },
    {
      "cell_type": "code",
      "source": [
        "# Use Union Types"
      ],
      "metadata": {
        "id": "-R8JBViVsG2m"
      },
      "execution_count": null,
      "outputs": []
    },
    {
      "cell_type": "code",
      "source": [
        "from pydantic import BaseModel\n",
        "from typing import Union\n",
        "\n",
        "class Data(BaseModel):\n",
        "    value: Union[int, str]\n",
        "\n",
        "data1 = Data(value=123)\n",
        "data2 = Data(value=\"abc\")\n",
        "print(data1, data2)"
      ],
      "metadata": {
        "colab": {
          "base_uri": "https://localhost:8080/"
        },
        "id": "GzamiuFHsXVc",
        "outputId": "4e7fdddc-5ebf-4aae-b7a6-89fc1619d779"
      },
      "execution_count": null,
      "outputs": [
        {
          "output_type": "stream",
          "name": "stdout",
          "text": [
            "value=123 value='abc'\n"
          ]
        }
      ]
    },
    {
      "cell_type": "code",
      "source": [
        "# Reject Extra Fields Strictly\n"
      ],
      "metadata": {
        "id": "2c9TuqIzsYzq"
      },
      "execution_count": null,
      "outputs": []
    },
    {
      "cell_type": "code",
      "source": [
        "class StrictUser(BaseModel):\n",
        "    id: int\n",
        "    name: str\n",
        "\n",
        "    class Config:\n",
        "        extra = \"forbid\"\n",
        "\n",
        "try:\n",
        "    strict_user = StrictUser(id=1, name=\"Jafer\", email=\"extra\")\n",
        "except Exception as e:\n",
        "    print(e)"
      ],
      "metadata": {
        "colab": {
          "base_uri": "https://localhost:8080/"
        },
        "id": "yZHjHQBjuXwA",
        "outputId": "f1d03f74-889b-4b12-c483-e31b7f2076c2"
      },
      "execution_count": null,
      "outputs": [
        {
          "output_type": "stream",
          "name": "stdout",
          "text": [
            "1 validation error for StrictUser\n",
            "email\n",
            "  Extra inputs are not permitted [type=extra_forbidden, input_value='extra', input_type=str]\n",
            "    For further information visit https://errors.pydantic.dev/2.11/v/extra_forbidden\n"
          ]
        }
      ]
    },
    {
      "cell_type": "code",
      "source": [
        "# Data Parsing and Validation"
      ],
      "metadata": {
        "id": "oheWd5dpuZ64"
      },
      "execution_count": null,
      "outputs": []
    },
    {
      "cell_type": "code",
      "source": [
        "from datetime import date"
      ],
      "metadata": {
        "id": "15bqJPCuuhng"
      },
      "execution_count": null,
      "outputs": []
    },
    {
      "cell_type": "code",
      "source": [
        "class Event(BaseModel):\n",
        "    name: str\n",
        "    event_date: date\n",
        "\n",
        "event = Event(name=\"Launch\", event_date=\"2025-12-31\")\n",
        "print(event)"
      ],
      "metadata": {
        "colab": {
          "base_uri": "https://localhost:8080/"
        },
        "id": "_uJwerNaugPo",
        "outputId": "dccea18c-d79a-4c4d-f132-58701e089212"
      },
      "execution_count": null,
      "outputs": [
        {
          "output_type": "stream",
          "name": "stdout",
          "text": [
            "name='Launch' event_date=datetime.date(2025, 12, 31)\n"
          ]
        }
      ]
    },
    {
      "cell_type": "code",
      "source": [
        "# Boolean From String"
      ],
      "metadata": {
        "id": "l02ilb3Fugkm"
      },
      "execution_count": null,
      "outputs": []
    },
    {
      "cell_type": "code",
      "source": [
        "class Toggle(BaseModel):\n",
        "    active: bool\n",
        "\n",
        "toggle = Toggle(active=\"true\")\n",
        "print(toggle)"
      ],
      "metadata": {
        "colab": {
          "base_uri": "https://localhost:8080/"
        },
        "id": "0uTtFVCYuuRY",
        "outputId": "430bfa1f-7286-497a-89b3-6586e4927719"
      },
      "execution_count": null,
      "outputs": [
        {
          "output_type": "stream",
          "name": "stdout",
          "text": [
            "active=True\n"
          ]
        }
      ]
    },
    {
      "cell_type": "code",
      "source": [
        "# Zipcode Validation with Regex"
      ],
      "metadata": {
        "id": "BPuT8eryuupq"
      },
      "execution_count": null,
      "outputs": []
    },
    {
      "cell_type": "code",
      "source": [
        "class ZipCode(BaseModel):\n",
        "    code: str = Field(..., pattern=r\"^\\d{6}$\")\n",
        "\n",
        "zipcode = ZipCode(code=\"600001\")\n",
        "print(zipcode)"
      ],
      "metadata": {
        "colab": {
          "base_uri": "https://localhost:8080/"
        },
        "id": "iVqlqDfBvA3h",
        "outputId": "6a0b8ec3-9bf1-41e0-b5af-b88d53277f5c"
      },
      "execution_count": null,
      "outputs": [
        {
          "output_type": "stream",
          "name": "stdout",
          "text": [
            "code='600001'\n"
          ]
        }
      ]
    },
    {
      "cell_type": "code",
      "source": [
        "# Field Serialization Control"
      ],
      "metadata": {
        "id": "aTvNUzz1vBO7"
      },
      "execution_count": null,
      "outputs": []
    },
    {
      "cell_type": "code",
      "source": [
        "class UserWithInclude(BaseModel):\n",
        "    id: int\n",
        "    name: str\n",
        "    email: str\n",
        "\n",
        "user_inc = UserWithInclude(id=1, name=\"Jafer\", email=\"j@x.com\")\n",
        "print(user_inc.model_dump(include={\"id\", \"email\"}))"
      ],
      "metadata": {
        "colab": {
          "base_uri": "https://localhost:8080/"
        },
        "id": "8X0Db1YNwA7F",
        "outputId": "0cb062b4-161a-435a-f8ef-b52896da5974"
      },
      "execution_count": null,
      "outputs": [
        {
          "output_type": "stream",
          "name": "stdout",
          "text": [
            "{'id': 1, 'email': 'j@x.com'}\n"
          ]
        }
      ]
    },
    {
      "cell_type": "code",
      "source": [
        "# Validate Multiple Field Combinations"
      ],
      "metadata": {
        "id": "zWtLtZQbwBR0"
      },
      "execution_count": null,
      "outputs": []
    },
    {
      "cell_type": "code",
      "source": [
        "class FullName(BaseModel):\n",
        "    first_name: str\n",
        "    last_name: str\n",
        "\n",
        "    @model_validator(mode=\"after\")\n",
        "    def no_duplicate(cls, values):\n",
        "        if values.first_name == values.last_name:\n",
        "            raise ValueError(\"First and last names must differ\")\n",
        "        return values\n",
        "\n",
        "print(FullName(first_name=\"Syed\", last_name=\"Jafer\"))\n"
      ],
      "metadata": {
        "colab": {
          "base_uri": "https://localhost:8080/"
        },
        "id": "UIYnkFC2xbPg",
        "outputId": "f1bfb2a0-8164-409e-cd1c-488e3e7c3069"
      },
      "execution_count": null,
      "outputs": [
        {
          "output_type": "stream",
          "name": "stdout",
          "text": [
            "first_name='Syed' last_name='Jafer'\n"
          ]
        }
      ]
    },
    {
      "cell_type": "code",
      "source": [],
      "metadata": {
        "id": "CS46_QfJxbjL"
      },
      "execution_count": null,
      "outputs": []
    }
  ]
}